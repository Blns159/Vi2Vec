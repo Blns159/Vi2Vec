{
 "cells": [
  {
   "cell_type": "code",
   "execution_count": 1,
   "id": "853f612f",
   "metadata": {
    "execution": {
     "iopub.execute_input": "2024-07-16T16:27:59.601902Z",
     "iopub.status.busy": "2024-07-16T16:27:59.601512Z",
     "iopub.status.idle": "2024-07-16T16:28:15.102000Z",
     "shell.execute_reply": "2024-07-16T16:28:15.100530Z"
    },
    "papermill": {
     "duration": 15.509081,
     "end_time": "2024-07-16T16:28:15.105145",
     "exception": false,
     "start_time": "2024-07-16T16:27:59.596064",
     "status": "completed"
    },
    "tags": []
   },
   "outputs": [
    {
     "name": "stdout",
     "output_type": "stream",
     "text": [
      "Collecting pyvi\r\n",
      "  Downloading pyvi-0.1.1-py2.py3-none-any.whl.metadata (2.5 kB)\r\n",
      "Requirement already satisfied: scikit-learn in /opt/conda/lib/python3.10/site-packages (from pyvi) (1.2.2)\r\n",
      "Collecting sklearn-crfsuite (from pyvi)\r\n",
      "  Downloading sklearn_crfsuite-0.5.0-py2.py3-none-any.whl.metadata (4.9 kB)\r\n",
      "Requirement already satisfied: numpy>=1.17.3 in /opt/conda/lib/python3.10/site-packages (from scikit-learn->pyvi) (1.26.4)\r\n",
      "Requirement already satisfied: scipy>=1.3.2 in /opt/conda/lib/python3.10/site-packages (from scikit-learn->pyvi) (1.11.4)\r\n",
      "Requirement already satisfied: joblib>=1.1.1 in /opt/conda/lib/python3.10/site-packages (from scikit-learn->pyvi) (1.4.2)\r\n",
      "Requirement already satisfied: threadpoolctl>=2.0.0 in /opt/conda/lib/python3.10/site-packages (from scikit-learn->pyvi) (3.2.0)\r\n",
      "Collecting python-crfsuite>=0.9.7 (from sklearn-crfsuite->pyvi)\r\n",
      "  Downloading python_crfsuite-0.9.10-cp310-cp310-manylinux_2_17_x86_64.manylinux2014_x86_64.whl.metadata (4.2 kB)\r\n",
      "Requirement already satisfied: tabulate>=0.4.2 in /opt/conda/lib/python3.10/site-packages (from sklearn-crfsuite->pyvi) (0.9.0)\r\n",
      "Requirement already satisfied: tqdm>=2.0 in /opt/conda/lib/python3.10/site-packages (from sklearn-crfsuite->pyvi) (4.66.4)\r\n",
      "Downloading pyvi-0.1.1-py2.py3-none-any.whl (8.5 MB)\r\n",
      "\u001b[2K   \u001b[90m━━━━━━━━━━━━━━━━━━━━━━━━━━━━━━━━━━━━━━━━\u001b[0m \u001b[32m8.5/8.5 MB\u001b[0m \u001b[31m50.1 MB/s\u001b[0m eta \u001b[36m0:00:00\u001b[0m\r\n",
      "\u001b[?25hDownloading sklearn_crfsuite-0.5.0-py2.py3-none-any.whl (10 kB)\r\n",
      "Downloading python_crfsuite-0.9.10-cp310-cp310-manylinux_2_17_x86_64.manylinux2014_x86_64.whl (1.1 MB)\r\n",
      "\u001b[2K   \u001b[90m━━━━━━━━━━━━━━━━━━━━━━━━━━━━━━━━━━━━━━━━\u001b[0m \u001b[32m1.1/1.1 MB\u001b[0m \u001b[31m45.9 MB/s\u001b[0m eta \u001b[36m0:00:00\u001b[0m\r\n",
      "\u001b[?25hInstalling collected packages: python-crfsuite, sklearn-crfsuite, pyvi\r\n",
      "Successfully installed python-crfsuite-0.9.10 pyvi-0.1.1 sklearn-crfsuite-0.5.0\r\n",
      "Note: you may need to restart the kernel to use updated packages.\n"
     ]
    }
   ],
   "source": [
    "pip install pyvi"
   ]
  },
  {
   "cell_type": "code",
   "execution_count": 2,
   "id": "15128860",
   "metadata": {
    "_cell_guid": "b1076dfc-b9ad-4769-8c92-a6c4dae69d19",
    "_uuid": "8f2839f25d086af736a60e9eeb907d3b93b6e0e5",
    "execution": {
     "iopub.execute_input": "2024-07-16T16:28:15.120248Z",
     "iopub.status.busy": "2024-07-16T16:28:15.119744Z",
     "iopub.status.idle": "2024-07-16T16:28:26.392585Z",
     "shell.execute_reply": "2024-07-16T16:28:26.391458Z"
    },
    "papermill": {
     "duration": 11.284211,
     "end_time": "2024-07-16T16:28:26.395402",
     "exception": false,
     "start_time": "2024-07-16T16:28:15.111191",
     "status": "completed"
    },
    "tags": []
   },
   "outputs": [],
   "source": [
    "import os\n",
    "import pandas as pd\n",
    "import string\n",
    "from pyvi import ViTokenizer\n",
    "from gensim.models.fasttext import FastText\n",
    "from gensim.models import Word2Vec\n",
    "from sklearn.decomposition import PCA\n",
    "import matplotlib.pyplot as plt"
   ]
  },
  {
   "cell_type": "code",
   "execution_count": 3,
   "id": "2c59c153",
   "metadata": {
    "execution": {
     "iopub.execute_input": "2024-07-16T16:28:26.406233Z",
     "iopub.status.busy": "2024-07-16T16:28:26.405602Z",
     "iopub.status.idle": "2024-07-16T16:28:26.411999Z",
     "shell.execute_reply": "2024-07-16T16:28:26.410972Z"
    },
    "papermill": {
     "duration": 0.014348,
     "end_time": "2024-07-16T16:28:26.414223",
     "exception": false,
     "start_time": "2024-07-16T16:28:26.399875",
     "status": "completed"
    },
    "tags": []
   },
   "outputs": [],
   "source": [
    "pathdata = '/kaggle/input/data-vi/datatrain.txt'\n",
    "\n",
    "def read_data(path):\n",
    "    traindata = []\n",
    "    with open(path, 'r', encoding='utf-8') as f:\n",
    "        sents = f.readlines()\n",
    "        for sent in sents:\n",
    "            traindata.append(sent.strip().split())\n",
    "    return traindata"
   ]
  },
  {
   "cell_type": "code",
   "execution_count": 4,
   "id": "d9466545",
   "metadata": {
    "execution": {
     "iopub.execute_input": "2024-07-16T16:28:26.424244Z",
     "iopub.status.busy": "2024-07-16T16:28:26.423903Z",
     "iopub.status.idle": "2024-07-16T16:28:28.839686Z",
     "shell.execute_reply": "2024-07-16T16:28:28.838483Z"
    },
    "papermill": {
     "duration": 2.423929,
     "end_time": "2024-07-16T16:28:28.842499",
     "exception": false,
     "start_time": "2024-07-16T16:28:26.418570",
     "status": "completed"
    },
    "tags": []
   },
   "outputs": [
    {
     "name": "stdout",
     "output_type": "stream",
     "text": [
      "Number of sentences: 306855\n"
     ]
    }
   ],
   "source": [
    "# Read data from file\n",
    "train_data = read_data(pathdata)\n",
    "print(f\"Number of sentences: {len(train_data)}\")"
   ]
  },
  {
   "cell_type": "code",
   "execution_count": 5,
   "id": "15a74d54",
   "metadata": {
    "execution": {
     "iopub.execute_input": "2024-07-16T16:28:28.853075Z",
     "iopub.status.busy": "2024-07-16T16:28:28.852695Z",
     "iopub.status.idle": "2024-07-16T16:32:51.762103Z",
     "shell.execute_reply": "2024-07-16T16:32:51.760987Z"
    },
    "papermill": {
     "duration": 262.921506,
     "end_time": "2024-07-16T16:32:51.768554",
     "exception": false,
     "start_time": "2024-07-16T16:28:28.847048",
     "status": "completed"
    },
    "tags": []
   },
   "outputs": [
    {
     "data": {
      "text/plain": [
       "(20744572, 25770695)"
      ]
     },
     "execution_count": 5,
     "metadata": {},
     "output_type": "execute_result"
    }
   ],
   "source": [
    "model_fasttext = FastText(vector_size=150, window=10, min_count=2, workers=4, sg=1)\n",
    "model_fasttext.build_vocab(train_data)\n",
    "model_fasttext.train(train_data, total_examples=model_fasttext.corpus_count, epochs=model_fasttext.epochs)"
   ]
  },
  {
   "cell_type": "code",
   "execution_count": 6,
   "id": "81c65c9a",
   "metadata": {
    "execution": {
     "iopub.execute_input": "2024-07-16T16:32:51.779915Z",
     "iopub.status.busy": "2024-07-16T16:32:51.779511Z",
     "iopub.status.idle": "2024-07-16T16:32:52.675967Z",
     "shell.execute_reply": "2024-07-16T16:32:52.674658Z"
    },
    "papermill": {
     "duration": 0.905061,
     "end_time": "2024-07-16T16:32:52.678481",
     "exception": false,
     "start_time": "2024-07-16T16:32:51.773420",
     "status": "completed"
    },
    "tags": []
   },
   "outputs": [
    {
     "name": "stdout",
     "output_type": "stream",
     "text": [
      "Model saved successfully.\n"
     ]
    }
   ],
   "source": [
    "# Save the trained model\n",
    "model_fasttext.wv.save(\"./fasttext_gensim.model\")\n",
    "print(\"Model saved successfully.\")"
   ]
  },
  {
   "cell_type": "code",
   "execution_count": 7,
   "id": "2b1801e9",
   "metadata": {
    "execution": {
     "iopub.execute_input": "2024-07-16T16:32:52.690047Z",
     "iopub.status.busy": "2024-07-16T16:32:52.689079Z",
     "iopub.status.idle": "2024-07-16T16:32:57.640611Z",
     "shell.execute_reply": "2024-07-16T16:32:57.639233Z"
    },
    "papermill": {
     "duration": 4.960159,
     "end_time": "2024-07-16T16:32:57.643396",
     "exception": false,
     "start_time": "2024-07-16T16:32:52.683237",
     "status": "completed"
    },
    "tags": []
   },
   "outputs": [
    {
     "name": "stdout",
     "output_type": "stream",
     "text": [
      "Model loaded successfully.\n",
      "Vector for 'tôi':\n",
      "[-0.12582777  0.05912003  0.21842739 -0.15166105 -0.20634413 -0.02811069\n",
      " -0.62773037  0.10364706  0.828887    0.17717783  0.32208017 -0.3181525\n",
      "  0.11964685  0.23168515 -0.8737014  -0.72704303  0.10768746 -0.02447076\n",
      "  0.28961465 -0.26399654 -0.21244514 -0.06806229 -0.23766485 -0.2243264\n",
      " -0.25915414  0.23414549 -0.02765725  0.26552975 -0.04096402  0.39839342\n",
      "  0.19012377  0.2379681  -0.20797573  0.23843323 -0.22608173 -0.448452\n",
      "  0.29268405  0.00848947 -0.05942916 -0.02676689  0.09273846  0.24489366\n",
      "  0.05251247  0.03640032  0.6503523  -0.17463098  0.8334618  -0.38135004\n",
      "  0.05052665  0.07633836 -0.2769228   0.1648784  -0.32320356  0.03904307\n",
      " -0.330698   -0.01781406 -0.07167001  0.10823034 -0.23700817 -0.24570382\n",
      " -0.2939979   0.03471389  0.11179142 -0.61181885 -0.5660354   0.3613905\n",
      " -0.05311815 -0.20064461 -0.07003929 -0.24896328 -0.5418538  -0.10998882\n",
      "  0.24418746 -0.04827763  0.38121766 -0.13316932 -0.4170091  -0.27429283\n",
      " -0.1816027  -0.27395037 -0.11861856  0.7001095  -0.483435    0.08238029\n",
      "  0.6731886   0.02464965 -0.52131647  0.18919285  0.0151304  -0.45713612\n",
      " -0.26402727 -0.29588392 -0.36578003 -0.0383594   0.47702384 -0.00163428\n",
      "  0.09701575 -0.15369186 -0.23933637  0.53907484  0.39092922 -0.42935774\n",
      "  0.11373415  0.4437367  -0.06647472 -0.24342036 -0.1624537   0.4762952\n",
      " -0.03203173 -0.08148865 -0.4760332   0.17762399  0.09982195  0.0200167\n",
      " -0.38594884 -0.11466793  0.4630004   0.3311318   0.05164557  0.30843776\n",
      "  0.43031305 -0.4465286  -0.14451261 -0.07730418  0.26535085 -0.48104256\n",
      "  0.28424063  0.1449256  -0.09082759 -0.33965254 -0.07166729 -0.11047067\n",
      " -0.9430143  -0.16349721 -0.39945722  0.11135478 -0.1198625  -0.08382901\n",
      "  0.40839073  0.6656411   0.29266533  0.37196    -0.22188391  0.05215012\n",
      " -0.34984037  0.55144644 -0.03563883  0.24740966 -0.20414864  0.21845672]\n"
     ]
    }
   ],
   "source": [
    "# Load the trained model (Optional)\n",
    "from gensim.models import KeyedVectors\n",
    "\n",
    "model = KeyedVectors.load(\"/kaggle/working/fasttext_gensim.model\")\n",
    "print(\"Model loaded successfully.\")\n",
    "\n",
    "# Test the model (Optional)\n",
    "word = \"tôi\"\n",
    "if word in model:\n",
    "    print(f\"Vector for '{word}':\\n{model[word]}\")\n",
    "else:\n",
    "    print(f\"'{word}' not in vocabulary.\")"
   ]
  },
  {
   "cell_type": "code",
   "execution_count": 8,
   "id": "d9ebcec0",
   "metadata": {
    "execution": {
     "iopub.execute_input": "2024-07-16T16:32:57.655734Z",
     "iopub.status.busy": "2024-07-16T16:32:57.655176Z",
     "iopub.status.idle": "2024-07-16T16:33:31.581076Z",
     "shell.execute_reply": "2024-07-16T16:33:31.580091Z"
    },
    "papermill": {
     "duration": 33.935015,
     "end_time": "2024-07-16T16:33:31.583639",
     "exception": false,
     "start_time": "2024-07-16T16:32:57.648624",
     "status": "completed"
    },
    "tags": []
   },
   "outputs": [],
   "source": [
    "train_data = read_data(pathdata)\n",
    "model = Word2Vec(train_data, vector_size=150, window=10, min_count=2, workers=4, sg=0)\n",
    "model.wv.save(\"./word2vec_skipgram.model\")"
   ]
  },
  {
   "cell_type": "code",
   "execution_count": 9,
   "id": "69001d0a",
   "metadata": {
    "execution": {
     "iopub.execute_input": "2024-07-16T16:33:31.595030Z",
     "iopub.status.busy": "2024-07-16T16:33:31.594661Z",
     "iopub.status.idle": "2024-07-16T16:33:31.693571Z",
     "shell.execute_reply": "2024-07-16T16:33:31.692368Z"
    },
    "papermill": {
     "duration": 0.108086,
     "end_time": "2024-07-16T16:33:31.696686",
     "exception": false,
     "start_time": "2024-07-16T16:33:31.588600",
     "status": "completed"
    },
    "tags": []
   },
   "outputs": [
    {
     "name": "stdout",
     "output_type": "stream",
     "text": [
      "kỹ_thuật\n",
      "ứng_dụng\n",
      "lĩnh_vực\n",
      "tổ_hợp\n",
      "công_nghệ_cao\n",
      "ngành\n",
      "marketing\n",
      "kinh_doanh\n",
      "đồ_họa\n",
      "tiếp_thị\n"
     ]
    }
   ],
   "source": [
    "model = KeyedVectors.load('/kaggle/working/word2vec_skipgram.model')\n",
    "result = []\n",
    "for word in model.most_similar(u\"công_nghệ\"):\n",
    "    result.append(' '.join(word[0].split('_')))\n",
    "    print(word[0])"
   ]
  },
  {
   "cell_type": "code",
   "execution_count": 10,
   "id": "d9fda60b",
   "metadata": {
    "execution": {
     "iopub.execute_input": "2024-07-16T16:33:31.715062Z",
     "iopub.status.busy": "2024-07-16T16:33:31.714407Z",
     "iopub.status.idle": "2024-07-16T16:33:32.122636Z",
     "shell.execute_reply": "2024-07-16T16:33:32.121306Z"
    },
    "papermill": {
     "duration": 0.420291,
     "end_time": "2024-07-16T16:33:32.125174",
     "exception": false,
     "start_time": "2024-07-16T16:33:31.704883",
     "status": "completed"
    },
    "tags": []
   },
   "outputs": [
    {
     "data": {
      "image/png": "[encoded data removed]",
      "text/plain": [
       "<Figure size 640x480 with 1 Axes>"
      ]
     },
     "metadata": {},
     "output_type": "display_data"
    }
   ],
   "source": [
    "file_path = '/kaggle/input/data-vi/words.txt'\n",
    "with open(file_path, 'r') as f:\n",
    "    words = f.readlines()\n",
    "    words = [word.strip() for word in words]\n",
    "\n",
    "words_np = []\n",
    "words_label = []\n",
    "\n",
    "for word in model.key_to_index.keys():\n",
    "    if word in words:\n",
    "        words_np.append(model[word])\n",
    "        words_label.append(word)\n",
    "\n",
    "pca = PCA(n_components=2)\n",
    "pca.fit(words_np)\n",
    "reduced = pca.transform(words_np)\n",
    "\n",
    "\n",
    "def visualize():\n",
    "    fig, ax = plt.subplots()\n",
    "    for index, vec in enumerate(reduced):\n",
    "        x, y = vec[0], vec[1]\n",
    "        ax.scatter(x, y)\n",
    "        ax.annotate(words_label[index], xy=(x, y))\n",
    "\n",
    "    plt.show()\n",
    "\n",
    "\n",
    "visualize()"
   ]
  }
 ],
 "metadata": {
  "kaggle": {
   "accelerator": "none",
   "dataSources": [
    {
     "databundleVersionId": 9133189,
     "datasetId": 5399263,
     "sourceId": 8969117,
     "sourceType": "datasetVersion"
    }
   ],
   "dockerImageVersionId": 30746,
   "isGpuEnabled": false,
   "isInternetEnabled": true,
   "language": "python",
   "sourceType": "notebook"
  },
  "kernelspec": {
   "display_name": "Python 3",
   "language": "python",
   "name": "python3"
  },
  "language_info": {
   "codemirror_mode": {
    "name": "ipython",
    "version": 3
   },
   "file_extension": ".py",
   "mimetype": "text/x-python",
   "name": "python",
   "nbconvert_exporter": "python",
   "pygments_lexer": "ipython3",
   "version": "3.10.13"
  },
  "papermill": {
   "default_parameters": {},
   "duration": 336.90357,
   "end_time": "2024-07-16T16:33:33.455112",
   "environment_variables": {},
   "exception": null,
   "input_path": "__notebook__.ipynb",
   "output_path": "__notebook__.ipynb",
   "parameters": {},
   "start_time": "2024-07-16T16:27:56.551542",
   "version": "2.5.0"
  }
 },
 "nbformat": 4,
 "nbformat_minor": 5
}
